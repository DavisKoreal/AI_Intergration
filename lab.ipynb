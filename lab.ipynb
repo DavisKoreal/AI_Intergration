{
 "cells": [
  {
   "cell_type": "markdown",
   "metadata": {},
   "source": [
    "# THIS IS A NOTEBOOK TO TRACK THE DIFFERENT ITERATIONS FOR IMAGE RECOGNITION OF HOUSEHOLD GOODS\n",
    "\n",
    "### MOST DOCUMENTATION WILL BE INSIDE THE CODE IN THIS, LATER TO BE PORTED TO MAIN SCRIPT"
   ]
  },
  {
   "cell_type": "code",
   "execution_count": null,
   "metadata": {},
   "outputs": [],
   "source": []
  }
 ],
 "metadata": {
  "language_info": {
   "name": "python"
  }
 },
 "nbformat": 4,
 "nbformat_minor": 2
}
